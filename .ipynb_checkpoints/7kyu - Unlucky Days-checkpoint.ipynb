{
 "cells": [
  {
   "cell_type": "markdown",
   "metadata": {},
   "source": [
    "Friday 13th or Black Friday is considered as unlucky day. Calculate how many unlucky days are in the given year.\n",
    "\n",
    "Find the number of Friday 13th in the given year.\n",
    "\n",
    "Input: Year as an integer.\n",
    "\n",
    "Output: Number of Black Fridays in the year as an integer.\n",
    "\n",
    "Examples:\n",
    "\n",
    "unluckyDays(2015) == 3\n",
    "<br>\n",
    "unluckyDays(1986) == 1"
   ]
  },
  {
   "cell_type": "code",
   "execution_count": 14,
   "metadata": {},
   "outputs": [],
   "source": [
    "from datetime import datetime\n",
    "\n",
    "def unlucky_days(year):\n",
    "    #initializaing variable for Friday the 13th\n",
    "    friday = 0\n",
    "    #getting a list of weeks that represent the month\n",
    "    for month in range(1,13):\n",
    "        #weekday() returns the day of the week as an integer (e.g. Monday is 0 and Sunday is 6).Friday is 4.\n",
    "        #So, in the year of x, for every month, day 13 and weekday Friday(4), for each time that all these arguments are met, \n",
    "        #we add 1 to the variable friday.\n",
    "        if datetime(year, month, 13).weekday() == 4:\n",
    "            friday += 1\n",
    "    return friday"
   ]
  },
  {
   "cell_type": "code",
   "execution_count": 15,
   "metadata": {},
   "outputs": [
    {
     "name": "stdout",
     "output_type": "stream",
     "text": [
      "3\n"
     ]
    }
   ],
   "source": [
    "print(unlucky_days(2015))"
   ]
  }
 ],
 "metadata": {
  "kernelspec": {
   "display_name": "Python 3",
   "language": "python",
   "name": "python3"
  },
  "language_info": {
   "codemirror_mode": {
    "name": "ipython",
    "version": 3
   },
   "file_extension": ".py",
   "mimetype": "text/x-python",
   "name": "python",
   "nbconvert_exporter": "python",
   "pygments_lexer": "ipython3",
   "version": "3.8.3"
  }
 },
 "nbformat": 4,
 "nbformat_minor": 4
}
