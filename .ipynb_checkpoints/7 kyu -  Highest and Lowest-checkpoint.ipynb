{
 "cells": [
  {
   "cell_type": "markdown",
   "metadata": {},
   "source": [
    "In this little assignment you are given a string of space separated numbers, and have to return the highest and lowest number.\n",
    "\n",
    "Example:\n",
    "\n",
    "high_and_low(\"1 2 3 4 5\")  # return \"5 1\"\n",
    "<br>\n",
    "high_and_low(\"1 2 -3 4 5\") # return \"5 -3\"\n",
    "<br>\n",
    "high_and_low(\"1 9 3 4 -5\") # return \"9 -5\"\n",
    "<br>\n",
    "<br>\n",
    "Notes:\n",
    "\n",
    "All numbers are valid Int32, no need to validate them.\n",
    "There will always be at least one number in the input string.\n",
    "Output string must be two numbers separated by a single space, and highest number is first."
   ]
  },
  {
   "cell_type": "code",
   "execution_count": 92,
   "metadata": {},
   "outputs": [],
   "source": [
    "def high_and_low(numbers):\n",
    "    #turning string into list of integers\n",
    "    lst = [int(x) for x in numbers.split()]\n",
    "    #finding the highest value\n",
    "    high_n = max(lst)\n",
    "    #finding the lowest value\n",
    "    low_n = min(lst)\n",
    "    #formatting results as a string\n",
    "    return f'{high_n} {low_n}'"
   ]
  },
  {
   "cell_type": "code",
   "execution_count": 93,
   "metadata": {},
   "outputs": [
    {
     "name": "stdout",
     "output_type": "stream",
     "text": [
      "542 -214\n"
     ]
    }
   ],
   "source": [
    "print(high_and_low(\"4 5 29 54 4 0 -214 542 -64 1 -3 6 -6\"))"
   ]
  },
  {
   "cell_type": "code",
   "execution_count": null,
   "metadata": {},
   "outputs": [],
   "source": []
  }
 ],
 "metadata": {
  "kernelspec": {
   "display_name": "Python 3",
   "language": "python",
   "name": "python3"
  },
  "language_info": {
   "codemirror_mode": {
    "name": "ipython",
    "version": 3
   },
   "file_extension": ".py",
   "mimetype": "text/x-python",
   "name": "python",
   "nbconvert_exporter": "python",
   "pygments_lexer": "ipython3",
   "version": "3.8.3"
  }
 },
 "nbformat": 4,
 "nbformat_minor": 4
}
