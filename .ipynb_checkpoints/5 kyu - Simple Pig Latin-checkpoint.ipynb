{
 "cells": [
  {
   "cell_type": "markdown",
   "metadata": {},
   "source": [
    "Move the first letter of each word to the end of it, then add \"ay\" to the end of the word. Leave punctuation marks untouched.\n",
    "<br>\n",
    "Examples:\n",
    "<br>\n",
    "pig_it('Pig latin is cool') # igPay atinlay siay oolcay\n",
    "<br>\n",
    "pig_it('Hello world !')     # elloHay orldway !"
   ]
  },
  {
   "cell_type": "code",
   "execution_count": 2,
   "metadata": {},
   "outputs": [],
   "source": [
    "from string import punctuation\n",
    "\n",
    "def pig_it(text):\n",
    "    #splitting the string into a list of substrings\n",
    "    lst = [i for i in text.split()]\n",
    "    #remove the first letter of each word and adding these to a new list\n",
    "    text_part1 = [\"\".join(l[1:]) for l in lst]\n",
    "    #adding the first letter of each word to a new list\n",
    "    text_part2 = [\"\".join(l[0]) for l in lst]\n",
    "    final = []\n",
    "    #looping through each list (list with the words without first letter and the list with the initial letters)\n",
    "    for i, j in zip(text_part1, text_part2):\n",
    "        #joining the words and letters from both lists if these strings only and adding \"ay\" at the end\n",
    "        if str(i) and str(j):\n",
    "            final.append(i+j+\"ay\")\n",
    "        #taking into account the one letter string variables only (like 'O' in \"O tempora o mores !\"), so in this case we ignore the first list created\n",
    "        elif (len(str(j)) == 1) and (j not in punctuation):\n",
    "            final.append(j[0]+\"ay\")\n",
    "        else:\n",
    "        #this last line adds ponctuation to the final list without adding \"ay\"\n",
    "            final.append(i+j)\n",
    "    #turning the list into string\n",
    "    return \" \".join(final)"
   ]
  }
 ],
 "metadata": {
  "kernelspec": {
   "display_name": "Python 3",
   "language": "python",
   "name": "python3"
  },
  "language_info": {
   "codemirror_mode": {
    "name": "ipython",
    "version": 3
   },
   "file_extension": ".py",
   "mimetype": "text/x-python",
   "name": "python",
   "nbconvert_exporter": "python",
   "pygments_lexer": "ipython3",
   "version": "3.8.3"
  }
 },
 "nbformat": 4,
 "nbformat_minor": 4
}
