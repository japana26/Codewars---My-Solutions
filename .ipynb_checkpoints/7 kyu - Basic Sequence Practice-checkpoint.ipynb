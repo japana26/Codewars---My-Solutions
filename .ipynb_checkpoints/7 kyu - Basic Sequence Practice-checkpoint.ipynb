{
 "cells": [
  {
   "cell_type": "markdown",
   "metadata": {},
   "source": [
    "A sequence or a series, in mathematics, is a string of objects, like numbers, that follow a particular pattern. The individual elements in a sequence are called terms. \n",
    "<br>\n",
    "A simple example is 3, 6, 9, 12, 15, 18, 21, ..., where the pattern is: \"add 3 to the previous term\".\n",
    "\n",
    "In this kata, we will be using a more complicated sequence: 0, 1, 3, 6, 10, 15, 21, 28, ... This sequence is generated with the pattern: \"the nth term is the sum of numbers from 0 to n, inclusive\".\n",
    "\n",
    "[ 0,  1,    3,      6,   ...]\n",
    "<br>\n",
    "  0  0+1  0+1+2  0+1+2+3\n",
    "<br>\n",
    "<br>\n",
    "Complete the function that takes an integer n and returns a list/array of length abs(n) + 1 of the arithmetic series explained above. Whenn < 0 return the sequence with negative terms."
   ]
  },
  {
   "cell_type": "code",
   "execution_count": 2,
   "metadata": {},
   "outputs": [],
   "source": [
    "def sum_of_n(n):\n",
    "    #creating an empty list which will be filled with ints that are in range of 0-n\n",
    "    lst = []\n",
    "    #creating a var which will be incremented by the value of the previous int\n",
    "    st = 0\n",
    "    #taking into account when n < 0\n",
    "    if n < 0:\n",
    "        #so in this case we go from a negative n + 1 (for ex. if our n is -5, the next one in the loop would be -4, or if our n is 5, the next int would be 6)\n",
    "        for i in range(-n+1):\n",
    "            #summing the elements from 0 to n\n",
    "            st -= i\n",
    "            #adding the results to the list\n",
    "            lst.append(st)\n",
    "    #doing the same, but for positive numbers\n",
    "    else:\n",
    "        for i in range(n+1):\n",
    "            st += i\n",
    "            lst.append(st)\n",
    "    return(lst)"
   ]
  },
  {
   "cell_type": "code",
   "execution_count": null,
   "metadata": {},
   "outputs": [],
   "source": []
  }
 ],
 "metadata": {
  "kernelspec": {
   "display_name": "Python 3",
   "language": "python",
   "name": "python3"
  },
  "language_info": {
   "codemirror_mode": {
    "name": "ipython",
    "version": 3
   },
   "file_extension": ".py",
   "mimetype": "text/x-python",
   "name": "python",
   "nbconvert_exporter": "python",
   "pygments_lexer": "ipython3",
   "version": "3.8.3"
  }
 },
 "nbformat": 4,
 "nbformat_minor": 4
}
