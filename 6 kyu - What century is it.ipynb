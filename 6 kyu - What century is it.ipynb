{
 "cells": [
  {
   "cell_type": "markdown",
   "metadata": {},
   "source": [
    "Return the century of the input year. The input will always be a 4 digit string, so there is no need for validation.\n",
    "\n",
    "Examples\n",
    "\"1999\" --> \"20th\"\n",
    "\"2011\" --> \"21st\"\n",
    "\"2154\" --> \"22nd\"\n",
    "\"2259\" --> \"23rd\"\n",
    "\"1124\" --> \"12th\"\n",
    "\"2000\" --> \"20th\""
   ]
  },
  {
   "cell_type": "code",
   "execution_count": 1,
   "metadata": {},
   "outputs": [],
   "source": [
    "def what_century(year):\n",
    "    #turning string to int so we can proceed with the calculations in the following lines\n",
    "    year = int(year)\n",
    "    #creating the century variable\n",
    "    cent = \"\"\n",
    "    #we want to know if the last digits are zero's so we have to check if year is divisible by 100\n",
    "    if year%100 == 0:\n",
    "        cent = str(year//100)\n",
    "    #in case the last 2 digits are not zero's, we need to add 1 to the century (ex.: year 2100 becomes 22)\n",
    "    else:\n",
    "        cent = str(year//100 + 1)\n",
    "    #now that we have the number, we need to format it so we have the century followed by st, nd, rd or th\n",
    "    #to find out if the century should be proceeded by st, I check to see if index -1 is 1 0 is not 1. Only 11, 12, 13 are followed by \"th\".\n",
    "    #i then return the century with the suffix\n",
    "    if cent[-1] == \"1\" and cent[0] != \"1\":\n",
    "        return cent + \"st\"\n",
    "    #i do the same for \"nd\", but in this case I am looking to see if the last digit is 3\n",
    "    elif cent[-1] == \"2\" and cent[0] != \"1\":\n",
    "        return  cent + \"nd\"\n",
    "    #same as above, but for \"rd\"\n",
    "    elif cent[-1] == \"3\" and cent[0] != \"1\":\n",
    "        return cent + \"rd\"\n",
    "    else:\n",
    "        return cent + \"th\""
   ]
  },
  {
   "cell_type": "code",
   "execution_count": 3,
   "metadata": {},
   "outputs": [
    {
     "data": {
      "text/plain": [
       "'23rd'"
      ]
     },
     "execution_count": 3,
     "metadata": {},
     "output_type": "execute_result"
    }
   ],
   "source": [
    "what_century(\"2259\")"
   ]
  }
 ],
 "metadata": {
  "kernelspec": {
   "display_name": "Python 3",
   "language": "python",
   "name": "python3"
  },
  "language_info": {
   "codemirror_mode": {
    "name": "ipython",
    "version": 3
   },
   "file_extension": ".py",
   "mimetype": "text/x-python",
   "name": "python",
   "nbconvert_exporter": "python",
   "pygments_lexer": "ipython3",
   "version": "3.8.3"
  }
 },
 "nbformat": 4,
 "nbformat_minor": 4
}
