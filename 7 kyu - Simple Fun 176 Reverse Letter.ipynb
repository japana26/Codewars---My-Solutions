{
 "cells": [
  {
   "cell_type": "markdown",
   "metadata": {},
   "source": [
    "Given a string str, reverse it omitting all non-alphabetic characters.\n",
    "\n",
    "Example\n",
    "For str = \"krishan\", the output should be \"nahsirk\".\n",
    "\n",
    "For str = \"ultr53o?n\", the output should be \"nortlu\".\n",
    "\n",
    "Input/Output\n",
    "[input] string str\n",
    "\n",
    "A string consists of lowercase latin letters, digits and symbols.\n",
    "\n",
    "[output] a string"
   ]
  },
  {
   "cell_type": "code",
   "execution_count": 7,
   "metadata": {},
   "outputs": [],
   "source": [
    "def reverse_letter(string):\n",
    "    #reversing with \"[::-1]\" (starts from the end and goes towards the first element)\n",
    "    #selecting only alphabetic characters with isalpha()\n",
    "    #showing result as a string (with .join)\n",
    "    return(''.join([i for i in string[::-1] if i.isalpha()]))"
   ]
  },
  {
   "cell_type": "code",
   "execution_count": 8,
   "metadata": {},
   "outputs": [
    {
     "data": {
      "text/plain": [
       "'nortlu'"
      ]
     },
     "execution_count": 8,
     "metadata": {},
     "output_type": "execute_result"
    }
   ],
   "source": [
    "reverse_letter(\"ultr53o?n\")"
   ]
  },
  {
   "cell_type": "code",
   "execution_count": null,
   "metadata": {},
   "outputs": [],
   "source": []
  }
 ],
 "metadata": {
  "kernelspec": {
   "display_name": "Python 3",
   "language": "python",
   "name": "python3"
  },
  "language_info": {
   "codemirror_mode": {
    "name": "ipython",
    "version": 3
   },
   "file_extension": ".py",
   "mimetype": "text/x-python",
   "name": "python",
   "nbconvert_exporter": "python",
   "pygments_lexer": "ipython3",
   "version": "3.8.3"
  }
 },
 "nbformat": 4,
 "nbformat_minor": 4
}
