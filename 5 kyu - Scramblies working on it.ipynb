{
 "cells": [
  {
   "cell_type": "markdown",
   "metadata": {},
   "source": [
    "Complete the function scramble(str1, str2) that returns true if a portion of str1 characters can be rearranged to match str2, otherwise returns false.\n",
    "\n",
    "Notes:\n",
    "\n",
    "Only lower case letters will be used (a-z). No punctuation or digits will be included.\n",
    "Performance needs to be considered\n",
    "Input strings s1 and s2 are null terminated."
   ]
  },
  {
   "cell_type": "code",
   "execution_count": 103,
   "metadata": {},
   "outputs": [],
   "source": [
    "def scramble(s1, s2):\n",
    "    #checking if characters in s2 are also in s1 and adding these to a separate list\n",
    "    #string = [i for i in s2 if i in s1]\n",
    "    #if len(string) == len(list(s2)):\n",
    "        #return True\n",
    "    #else:\n",
    "        #return False\n",
    "    freq_s1 = {} \n",
    "    for item in list(s1): \n",
    "        if (item in freq_s1): \n",
    "            freq_s1[item] += 1\n",
    "        else: \n",
    "            freq_s1[item] = 1\n",
    "    freq_s2 = {} \n",
    "    for item in list(s2): \n",
    "        if (item in freq_s2): \n",
    "            freq_s2[item] += 1\n",
    "        else: \n",
    "            freq_s2[item] = 1\n",
    "    shared_items = {k: freq_s2[k] for k in freq_s2 if k in freq_s1 and freq_s2[k] == freq_s1[k]}\n",
    "    return len(shared_items)"
   ]
  },
  {
   "cell_type": "code",
   "execution_count": 104,
   "metadata": {},
   "outputs": [
    {
     "data": {
      "text/plain": [
       "3"
      ]
     },
     "execution_count": 104,
     "metadata": {},
     "output_type": "execute_result"
    }
   ],
   "source": [
    "scramble('katase', 'steakss')"
   ]
  },
  {
   "cell_type": "code",
   "execution_count": null,
   "metadata": {},
   "outputs": [],
   "source": []
  },
  {
   "cell_type": "code",
   "execution_count": null,
   "metadata": {},
   "outputs": [],
   "source": []
  }
 ],
 "metadata": {
  "kernelspec": {
   "display_name": "Python 3",
   "language": "python",
   "name": "python3"
  },
  "language_info": {
   "codemirror_mode": {
    "name": "ipython",
    "version": 3
   },
   "file_extension": ".py",
   "mimetype": "text/x-python",
   "name": "python",
   "nbconvert_exporter": "python",
   "pygments_lexer": "ipython3",
   "version": "3.8.3"
  }
 },
 "nbformat": 4,
 "nbformat_minor": 4
}
